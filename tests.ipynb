{
 "cells": [
  {
   "cell_type": "code",
   "execution_count": 1,
   "id": "7933727d",
   "metadata": {},
   "outputs": [],
   "source": [
    "import numpy as np\n",
    "import pandas as pd"
   ]
  },
  {
   "cell_type": "code",
   "execution_count": 2,
   "id": "146eb0d3",
   "metadata": {},
   "outputs": [],
   "source": [
    "income = [1200, 200, 500, 250]"
   ]
  },
  {
   "cell_type": "code",
   "execution_count": 3,
   "id": "75eca57f",
   "metadata": {},
   "outputs": [
    {
     "name": "stdout",
     "output_type": "stream",
     "text": [
      "my incomes are: 1800.0\n",
      "my incomes are: 300.0\n",
      "my incomes are: 750.0\n",
      "my incomes are: 375.0\n"
     ]
    }
   ],
   "source": [
    "for i in income:\n",
    "    print(f'my incomes are: {i+ (i*0.5)}')"
   ]
  },
  {
   "cell_type": "code",
   "execution_count": 4,
   "id": "c23ed367",
   "metadata": {},
   "outputs": [],
   "source": [
    "from gapminder import gapminder\n",
    "from scipy.stats import ttest_ind\n",
    "from scipy.stats import ttest_rel"
   ]
  },
  {
   "cell_type": "code",
   "execution_count": 5,
   "id": "c54637f0",
   "metadata": {},
   "outputs": [],
   "source": [
    "df = gapminder"
   ]
  },
  {
   "cell_type": "code",
   "execution_count": 6,
   "id": "d2f53b3f",
   "metadata": {},
   "outputs": [],
   "source": [
    "asia_data = df[df['continent'] == 'Asia']\n",
    "\n",
    "europe_data = df[df['continent'] == 'Europe']"
   ]
  },
  {
   "cell_type": "code",
   "execution_count": 7,
   "id": "f3d0fd14",
   "metadata": {},
   "outputs": [
    {
     "name": "stdout",
     "output_type": "stream",
     "text": [
      "T-Statistic: -17.35002500917482\n",
      "P-Value: 5.410130343019877e-57\n"
     ]
    }
   ],
   "source": [
    "t_statistic, p_value = ttest_ind(asia_data['lifeExp'], europe_data['lifeExp'])\n",
    "\n",
    "print(\"T-Statistic:\", t_statistic)\n",
    "print(\"P-Value:\", p_value)"
   ]
  },
  {
   "cell_type": "code",
   "execution_count": 8,
   "id": "dd42f076",
   "metadata": {},
   "outputs": [],
   "source": [
    "# we reject null hypothesis as p value is less than 0.05\n",
    "# there is a statisticaly significant difference in life expectancy"
   ]
  },
  {
   "cell_type": "code",
   "execution_count": null,
   "id": "5de33631",
   "metadata": {},
   "outputs": [],
   "source": []
  },
  {
   "cell_type": "code",
   "execution_count": 9,
   "id": "ab33500a",
   "metadata": {},
   "outputs": [],
   "source": [
    "# one sided t test"
   ]
  },
  {
   "cell_type": "code",
   "execution_count": 10,
   "id": "9b8c8802",
   "metadata": {},
   "outputs": [
    {
     "data": {
      "text/html": [
       "<div>\n",
       "<style scoped>\n",
       "    .dataframe tbody tr th:only-of-type {\n",
       "        vertical-align: middle;\n",
       "    }\n",
       "\n",
       "    .dataframe tbody tr th {\n",
       "        vertical-align: top;\n",
       "    }\n",
       "\n",
       "    .dataframe thead th {\n",
       "        text-align: right;\n",
       "    }\n",
       "</style>\n",
       "<table border=\"1\" class=\"dataframe\">\n",
       "  <thead>\n",
       "    <tr style=\"text-align: right;\">\n",
       "      <th></th>\n",
       "      <th>country</th>\n",
       "      <th>continent</th>\n",
       "      <th>year</th>\n",
       "      <th>lifeExp</th>\n",
       "      <th>pop</th>\n",
       "      <th>gdpPercap</th>\n",
       "    </tr>\n",
       "  </thead>\n",
       "  <tbody>\n",
       "    <tr>\n",
       "      <th>744</th>\n",
       "      <td>Ireland</td>\n",
       "      <td>Europe</td>\n",
       "      <td>1952</td>\n",
       "      <td>66.910</td>\n",
       "      <td>2952156</td>\n",
       "      <td>5210.280328</td>\n",
       "    </tr>\n",
       "    <tr>\n",
       "      <th>745</th>\n",
       "      <td>Ireland</td>\n",
       "      <td>Europe</td>\n",
       "      <td>1957</td>\n",
       "      <td>68.900</td>\n",
       "      <td>2878220</td>\n",
       "      <td>5599.077872</td>\n",
       "    </tr>\n",
       "    <tr>\n",
       "      <th>746</th>\n",
       "      <td>Ireland</td>\n",
       "      <td>Europe</td>\n",
       "      <td>1962</td>\n",
       "      <td>70.290</td>\n",
       "      <td>2830000</td>\n",
       "      <td>6631.597314</td>\n",
       "    </tr>\n",
       "    <tr>\n",
       "      <th>747</th>\n",
       "      <td>Ireland</td>\n",
       "      <td>Europe</td>\n",
       "      <td>1967</td>\n",
       "      <td>71.080</td>\n",
       "      <td>2900100</td>\n",
       "      <td>7655.568963</td>\n",
       "    </tr>\n",
       "    <tr>\n",
       "      <th>748</th>\n",
       "      <td>Ireland</td>\n",
       "      <td>Europe</td>\n",
       "      <td>1972</td>\n",
       "      <td>71.280</td>\n",
       "      <td>3024400</td>\n",
       "      <td>9530.772896</td>\n",
       "    </tr>\n",
       "    <tr>\n",
       "      <th>749</th>\n",
       "      <td>Ireland</td>\n",
       "      <td>Europe</td>\n",
       "      <td>1977</td>\n",
       "      <td>72.030</td>\n",
       "      <td>3271900</td>\n",
       "      <td>11150.981130</td>\n",
       "    </tr>\n",
       "    <tr>\n",
       "      <th>750</th>\n",
       "      <td>Ireland</td>\n",
       "      <td>Europe</td>\n",
       "      <td>1982</td>\n",
       "      <td>73.100</td>\n",
       "      <td>3480000</td>\n",
       "      <td>12618.321410</td>\n",
       "    </tr>\n",
       "    <tr>\n",
       "      <th>751</th>\n",
       "      <td>Ireland</td>\n",
       "      <td>Europe</td>\n",
       "      <td>1987</td>\n",
       "      <td>74.360</td>\n",
       "      <td>3539900</td>\n",
       "      <td>13872.866520</td>\n",
       "    </tr>\n",
       "    <tr>\n",
       "      <th>752</th>\n",
       "      <td>Ireland</td>\n",
       "      <td>Europe</td>\n",
       "      <td>1992</td>\n",
       "      <td>75.467</td>\n",
       "      <td>3557761</td>\n",
       "      <td>17558.815550</td>\n",
       "    </tr>\n",
       "    <tr>\n",
       "      <th>753</th>\n",
       "      <td>Ireland</td>\n",
       "      <td>Europe</td>\n",
       "      <td>1997</td>\n",
       "      <td>76.122</td>\n",
       "      <td>3667233</td>\n",
       "      <td>24521.947130</td>\n",
       "    </tr>\n",
       "    <tr>\n",
       "      <th>754</th>\n",
       "      <td>Ireland</td>\n",
       "      <td>Europe</td>\n",
       "      <td>2002</td>\n",
       "      <td>77.783</td>\n",
       "      <td>3879155</td>\n",
       "      <td>34077.049390</td>\n",
       "    </tr>\n",
       "    <tr>\n",
       "      <th>755</th>\n",
       "      <td>Ireland</td>\n",
       "      <td>Europe</td>\n",
       "      <td>2007</td>\n",
       "      <td>78.885</td>\n",
       "      <td>4109086</td>\n",
       "      <td>40675.996350</td>\n",
       "    </tr>\n",
       "    <tr>\n",
       "      <th>1476</th>\n",
       "      <td>Switzerland</td>\n",
       "      <td>Europe</td>\n",
       "      <td>1952</td>\n",
       "      <td>69.620</td>\n",
       "      <td>4815000</td>\n",
       "      <td>14734.232750</td>\n",
       "    </tr>\n",
       "    <tr>\n",
       "      <th>1477</th>\n",
       "      <td>Switzerland</td>\n",
       "      <td>Europe</td>\n",
       "      <td>1957</td>\n",
       "      <td>70.560</td>\n",
       "      <td>5126000</td>\n",
       "      <td>17909.489730</td>\n",
       "    </tr>\n",
       "    <tr>\n",
       "      <th>1478</th>\n",
       "      <td>Switzerland</td>\n",
       "      <td>Europe</td>\n",
       "      <td>1962</td>\n",
       "      <td>71.320</td>\n",
       "      <td>5666000</td>\n",
       "      <td>20431.092700</td>\n",
       "    </tr>\n",
       "    <tr>\n",
       "      <th>1479</th>\n",
       "      <td>Switzerland</td>\n",
       "      <td>Europe</td>\n",
       "      <td>1967</td>\n",
       "      <td>72.770</td>\n",
       "      <td>6063000</td>\n",
       "      <td>22966.144320</td>\n",
       "    </tr>\n",
       "    <tr>\n",
       "      <th>1480</th>\n",
       "      <td>Switzerland</td>\n",
       "      <td>Europe</td>\n",
       "      <td>1972</td>\n",
       "      <td>73.780</td>\n",
       "      <td>6401400</td>\n",
       "      <td>27195.113040</td>\n",
       "    </tr>\n",
       "    <tr>\n",
       "      <th>1481</th>\n",
       "      <td>Switzerland</td>\n",
       "      <td>Europe</td>\n",
       "      <td>1977</td>\n",
       "      <td>75.390</td>\n",
       "      <td>6316424</td>\n",
       "      <td>26982.290520</td>\n",
       "    </tr>\n",
       "    <tr>\n",
       "      <th>1482</th>\n",
       "      <td>Switzerland</td>\n",
       "      <td>Europe</td>\n",
       "      <td>1982</td>\n",
       "      <td>76.210</td>\n",
       "      <td>6468126</td>\n",
       "      <td>28397.715120</td>\n",
       "    </tr>\n",
       "    <tr>\n",
       "      <th>1483</th>\n",
       "      <td>Switzerland</td>\n",
       "      <td>Europe</td>\n",
       "      <td>1987</td>\n",
       "      <td>77.410</td>\n",
       "      <td>6649942</td>\n",
       "      <td>30281.704590</td>\n",
       "    </tr>\n",
       "    <tr>\n",
       "      <th>1484</th>\n",
       "      <td>Switzerland</td>\n",
       "      <td>Europe</td>\n",
       "      <td>1992</td>\n",
       "      <td>78.030</td>\n",
       "      <td>6995447</td>\n",
       "      <td>31871.530300</td>\n",
       "    </tr>\n",
       "    <tr>\n",
       "      <th>1485</th>\n",
       "      <td>Switzerland</td>\n",
       "      <td>Europe</td>\n",
       "      <td>1997</td>\n",
       "      <td>79.370</td>\n",
       "      <td>7193761</td>\n",
       "      <td>32135.323010</td>\n",
       "    </tr>\n",
       "    <tr>\n",
       "      <th>1486</th>\n",
       "      <td>Switzerland</td>\n",
       "      <td>Europe</td>\n",
       "      <td>2002</td>\n",
       "      <td>80.620</td>\n",
       "      <td>7361757</td>\n",
       "      <td>34480.957710</td>\n",
       "    </tr>\n",
       "    <tr>\n",
       "      <th>1487</th>\n",
       "      <td>Switzerland</td>\n",
       "      <td>Europe</td>\n",
       "      <td>2007</td>\n",
       "      <td>81.701</td>\n",
       "      <td>7554661</td>\n",
       "      <td>37506.419070</td>\n",
       "    </tr>\n",
       "  </tbody>\n",
       "</table>\n",
       "</div>"
      ],
      "text/plain": [
       "          country continent  year  lifeExp      pop     gdpPercap\n",
       "744       Ireland    Europe  1952   66.910  2952156   5210.280328\n",
       "745       Ireland    Europe  1957   68.900  2878220   5599.077872\n",
       "746       Ireland    Europe  1962   70.290  2830000   6631.597314\n",
       "747       Ireland    Europe  1967   71.080  2900100   7655.568963\n",
       "748       Ireland    Europe  1972   71.280  3024400   9530.772896\n",
       "749       Ireland    Europe  1977   72.030  3271900  11150.981130\n",
       "750       Ireland    Europe  1982   73.100  3480000  12618.321410\n",
       "751       Ireland    Europe  1987   74.360  3539900  13872.866520\n",
       "752       Ireland    Europe  1992   75.467  3557761  17558.815550\n",
       "753       Ireland    Europe  1997   76.122  3667233  24521.947130\n",
       "754       Ireland    Europe  2002   77.783  3879155  34077.049390\n",
       "755       Ireland    Europe  2007   78.885  4109086  40675.996350\n",
       "1476  Switzerland    Europe  1952   69.620  4815000  14734.232750\n",
       "1477  Switzerland    Europe  1957   70.560  5126000  17909.489730\n",
       "1478  Switzerland    Europe  1962   71.320  5666000  20431.092700\n",
       "1479  Switzerland    Europe  1967   72.770  6063000  22966.144320\n",
       "1480  Switzerland    Europe  1972   73.780  6401400  27195.113040\n",
       "1481  Switzerland    Europe  1977   75.390  6316424  26982.290520\n",
       "1482  Switzerland    Europe  1982   76.210  6468126  28397.715120\n",
       "1483  Switzerland    Europe  1987   77.410  6649942  30281.704590\n",
       "1484  Switzerland    Europe  1992   78.030  6995447  31871.530300\n",
       "1485  Switzerland    Europe  1997   79.370  7193761  32135.323010\n",
       "1486  Switzerland    Europe  2002   80.620  7361757  34480.957710\n",
       "1487  Switzerland    Europe  2007   81.701  7554661  37506.419070"
      ]
     },
     "execution_count": 10,
     "metadata": {},
     "output_type": "execute_result"
    }
   ],
   "source": [
    "selected_countries = gapminder[gapminder['country'].isin(['Ireland', 'Switzerland'])]\n",
    "selected_countries"
   ]
  },
  {
   "cell_type": "code",
   "execution_count": 11,
   "id": "65822bbb",
   "metadata": {},
   "outputs": [],
   "source": [
    "t_statistic, p_value = ttest_ind(\n",
    "    selected_countries[selected_countries['country'] == 'Ireland']['lifeExp'],\n",
    "    selected_countries[selected_countries['country'] == 'Switzerland']['lifeExp'],\n",
    "    alternative='less'  # We're testing if Ireland's life expectancy is less than Switzerland's\n",
    ")"
   ]
  },
  {
   "cell_type": "code",
   "execution_count": 12,
   "id": "a2e11cbc",
   "metadata": {},
   "outputs": [
    {
     "name": "stdout",
     "output_type": "stream",
     "text": [
      "T-Statistic: -1.6337051626498607\n",
      "P-Value: 0.05827575461822978\n"
     ]
    }
   ],
   "source": [
    "print(\"T-Statistic:\", t_statistic)\n",
    "print(\"P-Value:\", p_value)"
   ]
  },
  {
   "cell_type": "code",
   "execution_count": 23,
   "id": "5007c422",
   "metadata": {},
   "outputs": [],
   "source": [
    "# there is no significant difference in life expectancy between Ireland and Switzerland"
   ]
  },
  {
   "cell_type": "code",
   "execution_count": null,
   "id": "113e43fc",
   "metadata": {},
   "outputs": [],
   "source": []
  },
  {
   "cell_type": "code",
   "execution_count": 35,
   "id": "2dc2ad0b",
   "metadata": {},
   "outputs": [],
   "source": [
    "# two sided test for different means"
   ]
  },
  {
   "cell_type": "code",
   "execution_count": 24,
   "id": "3f93fdc3",
   "metadata": {},
   "outputs": [],
   "source": [
    "selected_data = gapminder[(gapminder['year'].isin([1957, 2007])) \n",
    "                         & (gapminder['continent'] == 'Africa')]"
   ]
  },
  {
   "cell_type": "code",
   "execution_count": 25,
   "id": "b0c0854c",
   "metadata": {},
   "outputs": [
    {
     "data": {
      "text/html": [
       "<div>\n",
       "<style scoped>\n",
       "    .dataframe tbody tr th:only-of-type {\n",
       "        vertical-align: middle;\n",
       "    }\n",
       "\n",
       "    .dataframe tbody tr th {\n",
       "        vertical-align: top;\n",
       "    }\n",
       "\n",
       "    .dataframe thead th {\n",
       "        text-align: right;\n",
       "    }\n",
       "</style>\n",
       "<table border=\"1\" class=\"dataframe\">\n",
       "  <thead>\n",
       "    <tr style=\"text-align: right;\">\n",
       "      <th></th>\n",
       "      <th>country</th>\n",
       "      <th>continent</th>\n",
       "      <th>year</th>\n",
       "      <th>lifeExp</th>\n",
       "      <th>pop</th>\n",
       "      <th>gdpPercap</th>\n",
       "    </tr>\n",
       "  </thead>\n",
       "  <tbody>\n",
       "    <tr>\n",
       "      <th>25</th>\n",
       "      <td>Algeria</td>\n",
       "      <td>Africa</td>\n",
       "      <td>1957</td>\n",
       "      <td>45.685</td>\n",
       "      <td>10270856</td>\n",
       "      <td>3013.976023</td>\n",
       "    </tr>\n",
       "    <tr>\n",
       "      <th>35</th>\n",
       "      <td>Algeria</td>\n",
       "      <td>Africa</td>\n",
       "      <td>2007</td>\n",
       "      <td>72.301</td>\n",
       "      <td>33333216</td>\n",
       "      <td>6223.367465</td>\n",
       "    </tr>\n",
       "    <tr>\n",
       "      <th>37</th>\n",
       "      <td>Angola</td>\n",
       "      <td>Africa</td>\n",
       "      <td>1957</td>\n",
       "      <td>31.999</td>\n",
       "      <td>4561361</td>\n",
       "      <td>3827.940465</td>\n",
       "    </tr>\n",
       "    <tr>\n",
       "      <th>47</th>\n",
       "      <td>Angola</td>\n",
       "      <td>Africa</td>\n",
       "      <td>2007</td>\n",
       "      <td>42.731</td>\n",
       "      <td>12420476</td>\n",
       "      <td>4797.231267</td>\n",
       "    </tr>\n",
       "    <tr>\n",
       "      <th>121</th>\n",
       "      <td>Benin</td>\n",
       "      <td>Africa</td>\n",
       "      <td>1957</td>\n",
       "      <td>40.358</td>\n",
       "      <td>1925173</td>\n",
       "      <td>959.601080</td>\n",
       "    </tr>\n",
       "    <tr>\n",
       "      <th>...</th>\n",
       "      <td>...</td>\n",
       "      <td>...</td>\n",
       "      <td>...</td>\n",
       "      <td>...</td>\n",
       "      <td>...</td>\n",
       "      <td>...</td>\n",
       "    </tr>\n",
       "    <tr>\n",
       "      <th>1595</th>\n",
       "      <td>Uganda</td>\n",
       "      <td>Africa</td>\n",
       "      <td>2007</td>\n",
       "      <td>51.542</td>\n",
       "      <td>29170398</td>\n",
       "      <td>1056.380121</td>\n",
       "    </tr>\n",
       "    <tr>\n",
       "      <th>1681</th>\n",
       "      <td>Zambia</td>\n",
       "      <td>Africa</td>\n",
       "      <td>1957</td>\n",
       "      <td>44.077</td>\n",
       "      <td>3016000</td>\n",
       "      <td>1311.956766</td>\n",
       "    </tr>\n",
       "    <tr>\n",
       "      <th>1691</th>\n",
       "      <td>Zambia</td>\n",
       "      <td>Africa</td>\n",
       "      <td>2007</td>\n",
       "      <td>42.384</td>\n",
       "      <td>11746035</td>\n",
       "      <td>1271.211593</td>\n",
       "    </tr>\n",
       "    <tr>\n",
       "      <th>1693</th>\n",
       "      <td>Zimbabwe</td>\n",
       "      <td>Africa</td>\n",
       "      <td>1957</td>\n",
       "      <td>50.469</td>\n",
       "      <td>3646340</td>\n",
       "      <td>518.764268</td>\n",
       "    </tr>\n",
       "    <tr>\n",
       "      <th>1703</th>\n",
       "      <td>Zimbabwe</td>\n",
       "      <td>Africa</td>\n",
       "      <td>2007</td>\n",
       "      <td>43.487</td>\n",
       "      <td>12311143</td>\n",
       "      <td>469.709298</td>\n",
       "    </tr>\n",
       "  </tbody>\n",
       "</table>\n",
       "<p>104 rows × 6 columns</p>\n",
       "</div>"
      ],
      "text/plain": [
       "       country continent  year  lifeExp       pop    gdpPercap\n",
       "25     Algeria    Africa  1957   45.685  10270856  3013.976023\n",
       "35     Algeria    Africa  2007   72.301  33333216  6223.367465\n",
       "37      Angola    Africa  1957   31.999   4561361  3827.940465\n",
       "47      Angola    Africa  2007   42.731  12420476  4797.231267\n",
       "121      Benin    Africa  1957   40.358   1925173   959.601080\n",
       "...        ...       ...   ...      ...       ...          ...\n",
       "1595    Uganda    Africa  2007   51.542  29170398  1056.380121\n",
       "1681    Zambia    Africa  1957   44.077   3016000  1311.956766\n",
       "1691    Zambia    Africa  2007   42.384  11746035  1271.211593\n",
       "1693  Zimbabwe    Africa  1957   50.469   3646340   518.764268\n",
       "1703  Zimbabwe    Africa  2007   43.487  12311143   469.709298\n",
       "\n",
       "[104 rows x 6 columns]"
      ]
     },
     "execution_count": 25,
     "metadata": {},
     "output_type": "execute_result"
    }
   ],
   "source": [
    "selected_data"
   ]
  },
  {
   "cell_type": "code",
   "execution_count": 30,
   "id": "c4a9d2de",
   "metadata": {},
   "outputs": [
    {
     "name": "stdout",
     "output_type": "stream",
     "text": [
      "T-Statistic: 11.380657884778293\n",
      "P-Value: 1.3080722923851542e-15\n"
     ]
    }
   ],
   "source": [
    "t_statistic, p_value = ttest_rel(\n",
    "    selected_data[selected_data['year'] == 2007]['lifeExp'],\n",
    "    selected_data[selected_data['year'] == 1957]['lifeExp']\n",
    ")\n",
    "\n",
    "# Output the results\n",
    "print(\"T-Statistic:\", t_statistic)\n",
    "print(\"P-Value:\", p_value)"
   ]
  },
  {
   "cell_type": "code",
   "execution_count": 34,
   "id": "ced2596f",
   "metadata": {},
   "outputs": [
    {
     "name": "stdout",
     "output_type": "stream",
     "text": [
      "Variance of life expectancy in Ireland: 13.093\n",
      "Variance of life expectancy in Switzerland: 16.093\n"
     ]
    }
   ],
   "source": [
    "ireland_lifeExp = gapminder[gapminder['country'] == 'Ireland']['lifeExp']\n",
    "switzerland_lifeExp = gapminder[gapminder['country'] == 'Switzerland']['lifeExp']\n",
    "\n",
    "# Calculate the variance\n",
    "ireland_variance = round(ireland_lifeExp.var() , 3)\n",
    "switzerland_variance = round(switzerland_lifeExp.var(),3)\n",
    "\n",
    "print(\"Variance of life expectancy in Ireland:\", ireland_variance)\n",
    "print(\"Variance of life expectancy in Switzerland:\", switzerland_variance)"
   ]
  },
  {
   "cell_type": "code",
   "execution_count": null,
   "id": "e6afd257",
   "metadata": {},
   "outputs": [],
   "source": []
  },
  {
   "cell_type": "code",
   "execution_count": null,
   "id": "dd31e337",
   "metadata": {},
   "outputs": [],
   "source": []
  },
  {
   "cell_type": "code",
   "execution_count": null,
   "id": "485f436d",
   "metadata": {},
   "outputs": [],
   "source": []
  },
  {
   "cell_type": "code",
   "execution_count": 36,
   "id": "720630d2",
   "metadata": {},
   "outputs": [],
   "source": [
    "#anova "
   ]
  },
  {
   "cell_type": "code",
   "execution_count": 13,
   "id": "8868e688",
   "metadata": {},
   "outputs": [],
   "source": [
    "gapdata = gapminder[(gapminder['year'] == 2007) & (gapminder['continent'].isin(['Americas', 'Europe', 'Asia']))]\n",
    "\n",
    "# Select the continent and lifeExp columns\n",
    "gapdata = gapdata[['continent', 'lifeExp']]"
   ]
  },
  {
   "cell_type": "code",
   "execution_count": 14,
   "id": "edddbdaa",
   "metadata": {},
   "outputs": [
    {
     "data": {
      "text/html": [
       "<div>\n",
       "<style scoped>\n",
       "    .dataframe tbody tr th:only-of-type {\n",
       "        vertical-align: middle;\n",
       "    }\n",
       "\n",
       "    .dataframe tbody tr th {\n",
       "        vertical-align: top;\n",
       "    }\n",
       "\n",
       "    .dataframe thead th {\n",
       "        text-align: right;\n",
       "    }\n",
       "</style>\n",
       "<table border=\"1\" class=\"dataframe\">\n",
       "  <thead>\n",
       "    <tr style=\"text-align: right;\">\n",
       "      <th></th>\n",
       "      <th>continent</th>\n",
       "      <th>lifeExp</th>\n",
       "    </tr>\n",
       "  </thead>\n",
       "  <tbody>\n",
       "    <tr>\n",
       "      <th>11</th>\n",
       "      <td>Asia</td>\n",
       "      <td>43.828</td>\n",
       "    </tr>\n",
       "    <tr>\n",
       "      <th>23</th>\n",
       "      <td>Europe</td>\n",
       "      <td>76.423</td>\n",
       "    </tr>\n",
       "    <tr>\n",
       "      <th>59</th>\n",
       "      <td>Americas</td>\n",
       "      <td>75.320</td>\n",
       "    </tr>\n",
       "    <tr>\n",
       "      <th>83</th>\n",
       "      <td>Europe</td>\n",
       "      <td>79.829</td>\n",
       "    </tr>\n",
       "    <tr>\n",
       "      <th>95</th>\n",
       "      <td>Asia</td>\n",
       "      <td>75.635</td>\n",
       "    </tr>\n",
       "    <tr>\n",
       "      <th>...</th>\n",
       "      <td>...</td>\n",
       "      <td>...</td>\n",
       "    </tr>\n",
       "    <tr>\n",
       "      <th>1631</th>\n",
       "      <td>Americas</td>\n",
       "      <td>76.384</td>\n",
       "    </tr>\n",
       "    <tr>\n",
       "      <th>1643</th>\n",
       "      <td>Americas</td>\n",
       "      <td>73.747</td>\n",
       "    </tr>\n",
       "    <tr>\n",
       "      <th>1655</th>\n",
       "      <td>Asia</td>\n",
       "      <td>74.249</td>\n",
       "    </tr>\n",
       "    <tr>\n",
       "      <th>1667</th>\n",
       "      <td>Asia</td>\n",
       "      <td>73.422</td>\n",
       "    </tr>\n",
       "    <tr>\n",
       "      <th>1679</th>\n",
       "      <td>Asia</td>\n",
       "      <td>62.698</td>\n",
       "    </tr>\n",
       "  </tbody>\n",
       "</table>\n",
       "<p>88 rows × 2 columns</p>\n",
       "</div>"
      ],
      "text/plain": [
       "     continent  lifeExp\n",
       "11        Asia   43.828\n",
       "23      Europe   76.423\n",
       "59    Americas   75.320\n",
       "83      Europe   79.829\n",
       "95        Asia   75.635\n",
       "...        ...      ...\n",
       "1631  Americas   76.384\n",
       "1643  Americas   73.747\n",
       "1655      Asia   74.249\n",
       "1667      Asia   73.422\n",
       "1679      Asia   62.698\n",
       "\n",
       "[88 rows x 2 columns]"
      ]
     },
     "execution_count": 14,
     "metadata": {},
     "output_type": "execute_result"
    }
   ],
   "source": [
    "gapdata"
   ]
  },
  {
   "cell_type": "code",
   "execution_count": 15,
   "id": "283f3cb5",
   "metadata": {},
   "outputs": [],
   "source": [
    "import statsmodels.api as sm\n",
    "from statsmodels.formula.api import ols"
   ]
  },
  {
   "cell_type": "code",
   "execution_count": 16,
   "id": "094f16ec",
   "metadata": {},
   "outputs": [
    {
     "name": "stdout",
     "output_type": "stream",
     "text": [
      "                sum_sq    df          F    PR(>F)\n",
      "continent   755.617831   2.0  11.634169  0.000034\n",
      "Residual   2760.296640  85.0        NaN       NaN\n"
     ]
    }
   ],
   "source": [
    "model = ols('lifeExp ~ continent', data=gapdata).fit()\n",
    "\n",
    "# Perform ANOVA\n",
    "anova_table = sm.stats.anova_lm(model, typ=2)\n",
    "\n",
    "# Print ANOVA summary\n",
    "print(anova_table)"
   ]
  },
  {
   "cell_type": "code",
   "execution_count": 17,
   "id": "8b761fd6",
   "metadata": {},
   "outputs": [],
   "source": [
    "#we reject hypothesis"
   ]
  },
  {
   "cell_type": "code",
   "execution_count": 18,
   "id": "dd624b77",
   "metadata": {},
   "outputs": [],
   "source": [
    "from sklearn.datasets import load_iris\n",
    "from scipy.stats import chi2_contingency\n",
    "\n",
    "# Load the Iris dataset\n",
    "iris = load_iris()\n",
    "X = iris.data\n",
    "y = iris.target\n",
    "\n",
    "# Create a DataFrame for the Iris dataset\n",
    "iris_df = pd.DataFrame(X, columns=iris.feature_names)\n",
    "iris_df['species'] = y"
   ]
  },
  {
   "cell_type": "code",
   "execution_count": 19,
   "id": "6dddfd46",
   "metadata": {},
   "outputs": [
    {
     "data": {
      "text/plain": [
       "0      Short\n",
       "1      Short\n",
       "2      Short\n",
       "3      Short\n",
       "4      Short\n",
       "       ...  \n",
       "145     Long\n",
       "146     Long\n",
       "147     Long\n",
       "148     Long\n",
       "149    Short\n",
       "Name: sepal_length_category, Length: 150, dtype: category\n",
       "Categories (2, object): ['Short' < 'Long']"
      ]
     },
     "execution_count": 19,
     "metadata": {},
     "output_type": "execute_result"
    }
   ],
   "source": [
    "\n",
    "# Discretize sepal length into two categories\n",
    "iris_df['sepal_length_category'] = pd.cut(iris_df['sepal length (cm)'], bins=2, labels=['Short', 'Long'])\n",
    "iris_df['sepal_length_category']"
   ]
  },
  {
   "cell_type": "code",
   "execution_count": 20,
   "id": "3f2f2729",
   "metadata": {},
   "outputs": [
    {
     "name": "stdout",
     "output_type": "stream",
     "text": [
      "Chi-Squared Statistic: 4.752459441200152\n",
      "P-Value: 0.09290017767720457\n",
      "Degrees of Freedom: 2\n",
      "Expected Frequencies:\n",
      " [[29.76666667 55.73333333  9.5       ]\n",
      " [17.23333333 32.26666667  5.5       ]]\n"
     ]
    }
   ],
   "source": [
    "\n",
    "# Discretize sepal width into three categories\n",
    "iris_df['sepal_width_category'] = pd.cut(iris_df['sepal width (cm)'], bins=3, labels=['Narrow', 'Medium', 'Wide'])\n",
    "\n",
    "# Create a contingency table\n",
    "contingency_table = pd.crosstab(iris_df['sepal_length_category'], iris_df['sepal_width_category'])\n",
    "\n",
    "# Perform chi-squared test\n",
    "chi2_stat, p_val, dof, expected = chi2_contingency(contingency_table)\n",
    "\n",
    "# Output the results\n",
    "print(\"Chi-Squared Statistic:\", chi2_stat)\n",
    "print(\"P-Value:\", p_val)\n",
    "print(\"Degrees of Freedom:\", dof)\n",
    "print(\"Expected Frequencies:\\n\", expected)"
   ]
  },
  {
   "cell_type": "code",
   "execution_count": null,
   "id": "d9492a00",
   "metadata": {},
   "outputs": [],
   "source": []
  },
  {
   "cell_type": "code",
   "execution_count": null,
   "id": "3f91baa2",
   "metadata": {},
   "outputs": [],
   "source": []
  }
 ],
 "metadata": {
  "kernelspec": {
   "display_name": "Python 3 (ipykernel)",
   "language": "python",
   "name": "python3"
  },
  "language_info": {
   "codemirror_mode": {
    "name": "ipython",
    "version": 3
   },
   "file_extension": ".py",
   "mimetype": "text/x-python",
   "name": "python",
   "nbconvert_exporter": "python",
   "pygments_lexer": "ipython3",
   "version": "3.9.13"
  }
 },
 "nbformat": 4,
 "nbformat_minor": 5
}
